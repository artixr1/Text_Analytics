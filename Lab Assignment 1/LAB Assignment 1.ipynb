{
 "cells": [
  {
   "cell_type": "code",
   "execution_count": 8,
   "id": "65801848-4162-4290-9685-ed9832d7d1e0",
   "metadata": {},
   "outputs": [
    {
     "name": "stdout",
     "output_type": "stream",
     "text": [
      "Data saved to lazada_reviews.csv\n",
      "Script completed by: Muhammad Asif bin Ridzuan (SW01082401)\n"
     ]
    }
   ],
   "source": [
    "import requests\n",
    "from bs4 import BeautifulSoup\n",
    "import pandas as pd\n",
    "\n",
    "name = \"Muhammad Asif bin Ridzuan\"\n",
    "student_id = \"SW01082401\"\n",
    "#It seems that all  e-commerce website is equipped with anti scraping\n",
    "\n",
    "# Target URL\n",
    "url = \"https://www.lazada.com.my/products/polo-shirt-lelaki-pendek-sleeve-t-shirt-kasual-2025-t-shirt-baru-i3651496031-s20685905816.html?pvid=fbc0f089-a2fc-425d-be47-2124c08c23f6&search=jfy&scm=1007.45039.318630.0&priceCompare=skuId%3A20685905816%3Bsource%3Atpp-recommend-plugin-32104%3Bsn%3Afbc0f089-a2fc-425d-be47-2124c08c23f6%3BoriginPrice%3A1533%3BdisplayPrice%3A1533%3BsinglePromotionId%3A-1%3BsingleToolCode%3AmockedSalePrice%3BvoucherPricePlugin%3A0%3Btimestamp%3A1741078342193&spm=a2o4k.homepage.just4u.d_3651496031\"\n",
    "\n",
    "# Send a request to the URL\n",
    "response = requests.get(url)\n",
    "\n",
    "# Parse the HTML content using BeautifulSoup\n",
    "soup = BeautifulSoup(response.content, \"html.parser\")\n",
    "\n",
    "# Find all review containers\n",
    "review_containers = soup.find_all(\"div\", class_=\"mod-reviews\")\n",
    "\n",
    "# Prepare lists to store the extracted data\n",
    "reviewer_names = []\n",
    "review_dates = []\n",
    "review_contents = []\n",
    "\n",
    "# Loop through each review container and extract the data\n",
    "for container in review_containers:\n",
    "    # Extract reviewer name\n",
    "    try:\n",
    "        reviewer_name = container.find(\"span\", class_=\"\").text.strip()  # Replace with the actual class name\n",
    "    except:\n",
    "        reviewer_name = \"Name not found\"\n",
    "    reviewer_names.append(reviewer_name)\n",
    "\n",
    "    # Extract review date\n",
    "    try:\n",
    "        review_date = container.find(\"div\", class_=\"\").text.strip()  # Replace with the actual class name\n",
    "    except:\n",
    "        review_date = \"Date not found\"\n",
    "    review_dates.append(review_date)\n",
    "\n",
    "    # Extract review content\n",
    "    try:\n",
    "        review_content = container.find(\"p\", class_=\"\").text.strip()  # Replace with the actual class name\n",
    "    except:\n",
    "        review_content = \"Content not found\"\n",
    "    review_contents.append(review_content)\n",
    "\n",
    "# Create a Pandas DataFrame from the extracted data\n",
    "data = {\n",
    "    \"Reviewer Name\": reviewer_names,\n",
    "    \"Review Date\": review_dates,\n",
    "    \"Review Content\": review_contents,\n",
    "}\n",
    "df = pd.DataFrame(data)\n",
    "\n",
    "# Save the DataFrame to a CSV file\n",
    "df.to_csv(\"lazada_reviews.csv\", index=False)\n",
    "\n",
    "print(\"Data saved to lazada_reviews.csv\")\n",
    "print(f\"Script completed by: {name} ({student_id})\")"
   ]
  }
 ],
 "metadata": {
  "kernelspec": {
   "display_name": "Python [conda env:base] *",
   "language": "python",
   "name": "conda-base-py"
  },
  "language_info": {
   "codemirror_mode": {
    "name": "ipython",
    "version": 3
   },
   "file_extension": ".py",
   "mimetype": "text/x-python",
   "name": "python",
   "nbconvert_exporter": "python",
   "pygments_lexer": "ipython3",
   "version": "3.12.7"
  }
 },
 "nbformat": 4,
 "nbformat_minor": 5
}
